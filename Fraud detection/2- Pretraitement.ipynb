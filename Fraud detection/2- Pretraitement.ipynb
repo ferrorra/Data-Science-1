{
 "cells": [
  {
   "cell_type": "markdown",
   "metadata": {},
   "source": [
    "# Scaling and Distributing\n",
    "- Scaling = All Vs in our data are scaled, but Time and Amount Classes are not\n",
    "- Ditributiong = Fixing Class Imbalance by doing subsampling of equal classes\n"
   ]
  },
  {
   "cell_type": "code",
   "execution_count": 2,
   "metadata": {},
   "outputs": [],
   "source": [
    "import pandas as pd\n",
    "import numpy as np\n",
    "import seaborn as sns\n",
    "import matplotlib.pyplot as plt"
   ]
  },
  {
   "cell_type": "code",
   "execution_count": 3,
   "metadata": {},
   "outputs": [],
   "source": [
    "df = pd.read_csv('creditcard.csv')"
   ]
  },
  {
   "cell_type": "markdown",
   "metadata": {},
   "source": [
    " Clarrification for data transformation methods : \n",
    "- Normalization = Min max scaling, when no outliers, cannot cope with them\n",
    "- Standardization = Z score normalization, when data follows gaussian distribution\n",
    "- Scaling methods = Normalization AND Standardization"
   ]
  },
  {
   "cell_type": "code",
   "execution_count": 4,
   "metadata": {},
   "outputs": [],
   "source": [
    "# Subsampling avoids overfitting AND getting wrong correlations\n",
    "from sklearn.preprocessing import RobustScaler\n",
    "r_scaler = RobustScaler()\n",
    "\n",
    "df['scaled_amount'] = r_scaler.fit_transform(df['Amount'].values.reshape(-1,1))\n",
    "df['scaled_time'] = r_scaler.fit_transform(df['Time'].values.reshape(-1,1))\n",
    "\n",
    "y = df['Class']\n",
    "df.drop(['Amount','Time'],axis=1,inplace=True)\n",
    "df.drop(['Class'],axis=1,inplace=True)\n",
    "df['Class'] = y\n",
    "\n"
   ]
  },
  {
   "cell_type": "code",
   "execution_count": 5,
   "metadata": {},
   "outputs": [
    {
     "data": {
      "text/html": [
       "<div>\n",
       "<style scoped>\n",
       "    .dataframe tbody tr th:only-of-type {\n",
       "        vertical-align: middle;\n",
       "    }\n",
       "\n",
       "    .dataframe tbody tr th {\n",
       "        vertical-align: top;\n",
       "    }\n",
       "\n",
       "    .dataframe thead th {\n",
       "        text-align: right;\n",
       "    }\n",
       "</style>\n",
       "<table border=\"1\" class=\"dataframe\">\n",
       "  <thead>\n",
       "    <tr style=\"text-align: right;\">\n",
       "      <th></th>\n",
       "      <th>V1</th>\n",
       "      <th>V2</th>\n",
       "      <th>V3</th>\n",
       "      <th>V4</th>\n",
       "      <th>V5</th>\n",
       "      <th>V6</th>\n",
       "      <th>V7</th>\n",
       "      <th>V8</th>\n",
       "      <th>V9</th>\n",
       "      <th>V10</th>\n",
       "      <th>...</th>\n",
       "      <th>V22</th>\n",
       "      <th>V23</th>\n",
       "      <th>V24</th>\n",
       "      <th>V25</th>\n",
       "      <th>V26</th>\n",
       "      <th>V27</th>\n",
       "      <th>V28</th>\n",
       "      <th>scaled_amount</th>\n",
       "      <th>scaled_time</th>\n",
       "      <th>Class</th>\n",
       "    </tr>\n",
       "  </thead>\n",
       "  <tbody>\n",
       "    <tr>\n",
       "      <th>0</th>\n",
       "      <td>-1.359807</td>\n",
       "      <td>-0.072781</td>\n",
       "      <td>2.536347</td>\n",
       "      <td>1.378155</td>\n",
       "      <td>-0.338321</td>\n",
       "      <td>0.462388</td>\n",
       "      <td>0.239599</td>\n",
       "      <td>0.098698</td>\n",
       "      <td>0.363787</td>\n",
       "      <td>0.090794</td>\n",
       "      <td>...</td>\n",
       "      <td>0.277838</td>\n",
       "      <td>-0.110474</td>\n",
       "      <td>0.066928</td>\n",
       "      <td>0.128539</td>\n",
       "      <td>-0.189115</td>\n",
       "      <td>0.133558</td>\n",
       "      <td>-0.021053</td>\n",
       "      <td>1.783274</td>\n",
       "      <td>-0.994983</td>\n",
       "      <td>0</td>\n",
       "    </tr>\n",
       "    <tr>\n",
       "      <th>1</th>\n",
       "      <td>1.191857</td>\n",
       "      <td>0.266151</td>\n",
       "      <td>0.166480</td>\n",
       "      <td>0.448154</td>\n",
       "      <td>0.060018</td>\n",
       "      <td>-0.082361</td>\n",
       "      <td>-0.078803</td>\n",
       "      <td>0.085102</td>\n",
       "      <td>-0.255425</td>\n",
       "      <td>-0.166974</td>\n",
       "      <td>...</td>\n",
       "      <td>-0.638672</td>\n",
       "      <td>0.101288</td>\n",
       "      <td>-0.339846</td>\n",
       "      <td>0.167170</td>\n",
       "      <td>0.125895</td>\n",
       "      <td>-0.008983</td>\n",
       "      <td>0.014724</td>\n",
       "      <td>-0.269825</td>\n",
       "      <td>-0.994983</td>\n",
       "      <td>0</td>\n",
       "    </tr>\n",
       "    <tr>\n",
       "      <th>2</th>\n",
       "      <td>-1.358354</td>\n",
       "      <td>-1.340163</td>\n",
       "      <td>1.773209</td>\n",
       "      <td>0.379780</td>\n",
       "      <td>-0.503198</td>\n",
       "      <td>1.800499</td>\n",
       "      <td>0.791461</td>\n",
       "      <td>0.247676</td>\n",
       "      <td>-1.514654</td>\n",
       "      <td>0.207643</td>\n",
       "      <td>...</td>\n",
       "      <td>0.771679</td>\n",
       "      <td>0.909412</td>\n",
       "      <td>-0.689281</td>\n",
       "      <td>-0.327642</td>\n",
       "      <td>-0.139097</td>\n",
       "      <td>-0.055353</td>\n",
       "      <td>-0.059752</td>\n",
       "      <td>4.983721</td>\n",
       "      <td>-0.994972</td>\n",
       "      <td>0</td>\n",
       "    </tr>\n",
       "    <tr>\n",
       "      <th>3</th>\n",
       "      <td>-0.966272</td>\n",
       "      <td>-0.185226</td>\n",
       "      <td>1.792993</td>\n",
       "      <td>-0.863291</td>\n",
       "      <td>-0.010309</td>\n",
       "      <td>1.247203</td>\n",
       "      <td>0.237609</td>\n",
       "      <td>0.377436</td>\n",
       "      <td>-1.387024</td>\n",
       "      <td>-0.054952</td>\n",
       "      <td>...</td>\n",
       "      <td>0.005274</td>\n",
       "      <td>-0.190321</td>\n",
       "      <td>-1.175575</td>\n",
       "      <td>0.647376</td>\n",
       "      <td>-0.221929</td>\n",
       "      <td>0.062723</td>\n",
       "      <td>0.061458</td>\n",
       "      <td>1.418291</td>\n",
       "      <td>-0.994972</td>\n",
       "      <td>0</td>\n",
       "    </tr>\n",
       "    <tr>\n",
       "      <th>4</th>\n",
       "      <td>-1.158233</td>\n",
       "      <td>0.877737</td>\n",
       "      <td>1.548718</td>\n",
       "      <td>0.403034</td>\n",
       "      <td>-0.407193</td>\n",
       "      <td>0.095921</td>\n",
       "      <td>0.592941</td>\n",
       "      <td>-0.270533</td>\n",
       "      <td>0.817739</td>\n",
       "      <td>0.753074</td>\n",
       "      <td>...</td>\n",
       "      <td>0.798278</td>\n",
       "      <td>-0.137458</td>\n",
       "      <td>0.141267</td>\n",
       "      <td>-0.206010</td>\n",
       "      <td>0.502292</td>\n",
       "      <td>0.219422</td>\n",
       "      <td>0.215153</td>\n",
       "      <td>0.670579</td>\n",
       "      <td>-0.994960</td>\n",
       "      <td>0</td>\n",
       "    </tr>\n",
       "  </tbody>\n",
       "</table>\n",
       "<p>5 rows × 31 columns</p>\n",
       "</div>"
      ],
      "text/plain": [
       "         V1        V2        V3        V4        V5        V6        V7  \\\n",
       "0 -1.359807 -0.072781  2.536347  1.378155 -0.338321  0.462388  0.239599   \n",
       "1  1.191857  0.266151  0.166480  0.448154  0.060018 -0.082361 -0.078803   \n",
       "2 -1.358354 -1.340163  1.773209  0.379780 -0.503198  1.800499  0.791461   \n",
       "3 -0.966272 -0.185226  1.792993 -0.863291 -0.010309  1.247203  0.237609   \n",
       "4 -1.158233  0.877737  1.548718  0.403034 -0.407193  0.095921  0.592941   \n",
       "\n",
       "         V8        V9       V10  ...       V22       V23       V24       V25  \\\n",
       "0  0.098698  0.363787  0.090794  ...  0.277838 -0.110474  0.066928  0.128539   \n",
       "1  0.085102 -0.255425 -0.166974  ... -0.638672  0.101288 -0.339846  0.167170   \n",
       "2  0.247676 -1.514654  0.207643  ...  0.771679  0.909412 -0.689281 -0.327642   \n",
       "3  0.377436 -1.387024 -0.054952  ...  0.005274 -0.190321 -1.175575  0.647376   \n",
       "4 -0.270533  0.817739  0.753074  ...  0.798278 -0.137458  0.141267 -0.206010   \n",
       "\n",
       "        V26       V27       V28  scaled_amount  scaled_time  Class  \n",
       "0 -0.189115  0.133558 -0.021053       1.783274    -0.994983      0  \n",
       "1  0.125895 -0.008983  0.014724      -0.269825    -0.994983      0  \n",
       "2 -0.139097 -0.055353 -0.059752       4.983721    -0.994972      0  \n",
       "3 -0.221929  0.062723  0.061458       1.418291    -0.994972      0  \n",
       "4  0.502292  0.219422  0.215153       0.670579    -0.994960      0  \n",
       "\n",
       "[5 rows x 31 columns]"
      ]
     },
     "execution_count": 5,
     "metadata": {},
     "output_type": "execute_result"
    }
   ],
   "source": [
    "df.head()"
   ]
  },
  {
   "cell_type": "code",
   "execution_count": 6,
   "metadata": {},
   "outputs": [],
   "source": [
    "# if we try to split data normally we get an issue but we try quand meme parce qu'on est tetue et bornee\n",
    "\n",
    "X = df.drop(['Class'], axis = 1)\n",
    "y = df['Class']\n"
   ]
  },
  {
   "cell_type": "code",
   "execution_count": 7,
   "metadata": {},
   "outputs": [
    {
     "data": {
      "text/plain": [
       "StratifiedKFold(n_splits=5, random_state=None, shuffle=False)"
      ]
     },
     "execution_count": 7,
     "metadata": {},
     "output_type": "execute_result"
    }
   ],
   "source": [
    "from sklearn.model_selection import StratifiedKFold\n",
    "\n",
    "#using a k fold variation to make 5 splits of train and test with a balanced amount of both classes we have\n",
    "s = StratifiedKFold(n_splits=5,shuffle=False,random_state=None)\n",
    "s\n"
   ]
  },
  {
   "cell_type": "code",
   "execution_count": 8,
   "metadata": {},
   "outputs": [
    {
     "name": "stdout",
     "output_type": "stream",
     "text": [
      "227845 56962\n",
      "227845 56962\n",
      "227846 56961\n",
      "227846 56961\n",
      "227846 56961\n"
     ]
    }
   ],
   "source": [
    "for train_ind, test_ind in s.split(X,y):\n",
    "    #print(\"Train:\", train_ind, \"Test:\", test_ind)\n",
    "    original_Xtrain, original_Xtest = X.iloc[train_ind], X.iloc[test_ind]\n",
    "    original_ytrain, original_ytest = y.iloc[train_ind], y.iloc[test_ind]\n",
    "    # a chaque fois we shuffle our data to get a new fold\n",
    "    print(len(original_Xtrain), len(original_Xtest))\n"
   ]
  },
  {
   "cell_type": "code",
   "execution_count": 9,
   "metadata": {},
   "outputs": [
    {
     "name": "stdout",
     "output_type": "stream",
     "text": [
      "Label Distributions: \n",
      "\n",
      "[0.99827076 0.00172924]\n",
      "[0.99827952 0.00172048]\n"
     ]
    }
   ],
   "source": [
    "## showing the high imbalance\n",
    "original_Xtrain = original_Xtrain.values\n",
    "original_Xtest = original_Xtest.values\n",
    "original_ytrain = original_ytrain.values\n",
    "original_ytest = original_ytest.values\n",
    "train_unique_label, train_counts_label = np.unique(original_ytrain, return_counts=True)\n",
    "test_unique_label, test_counts_label = np.unique(original_ytest, return_counts=True)\n",
    "\n",
    "print('Label Distributions: \\n')\n",
    "print(train_counts_label/ len(original_ytrain))\n",
    "print(test_counts_label/ len(original_ytest))"
   ]
  },
  {
   "cell_type": "markdown",
   "metadata": {},
   "source": [
    "Solution s: Random under-sampling, Random over-sampling"
   ]
  },
  {
   "cell_type": "markdown",
   "metadata": {},
   "source": [
    "### Not so Random Under-sampling"
   ]
  },
  {
   "cell_type": "code",
   "execution_count": 10,
   "metadata": {},
   "outputs": [
    {
     "data": {
      "text/plain": [
       "Class\n",
       "0    284315\n",
       "1       492\n",
       "Name: count, dtype: int64"
      ]
     },
     "execution_count": 10,
     "metadata": {},
     "output_type": "execute_result"
    }
   ],
   "source": [
    "# see ration \n",
    "df['Class'].value_counts()"
   ]
  },
  {
   "cell_type": "code",
   "execution_count": 11,
   "metadata": {},
   "outputs": [
    {
     "data": {
      "text/html": [
       "<div>\n",
       "<style scoped>\n",
       "    .dataframe tbody tr th:only-of-type {\n",
       "        vertical-align: middle;\n",
       "    }\n",
       "\n",
       "    .dataframe tbody tr th {\n",
       "        vertical-align: top;\n",
       "    }\n",
       "\n",
       "    .dataframe thead th {\n",
       "        text-align: right;\n",
       "    }\n",
       "</style>\n",
       "<table border=\"1\" class=\"dataframe\">\n",
       "  <thead>\n",
       "    <tr style=\"text-align: right;\">\n",
       "      <th></th>\n",
       "      <th>V1</th>\n",
       "      <th>V2</th>\n",
       "      <th>V3</th>\n",
       "      <th>V4</th>\n",
       "      <th>V5</th>\n",
       "      <th>V6</th>\n",
       "      <th>V7</th>\n",
       "      <th>V8</th>\n",
       "      <th>V9</th>\n",
       "      <th>V10</th>\n",
       "      <th>...</th>\n",
       "      <th>V22</th>\n",
       "      <th>V23</th>\n",
       "      <th>V24</th>\n",
       "      <th>V25</th>\n",
       "      <th>V26</th>\n",
       "      <th>V27</th>\n",
       "      <th>V28</th>\n",
       "      <th>scaled_amount</th>\n",
       "      <th>scaled_time</th>\n",
       "      <th>Class</th>\n",
       "    </tr>\n",
       "  </thead>\n",
       "  <tbody>\n",
       "    <tr>\n",
       "      <th>64272</th>\n",
       "      <td>1.453187</td>\n",
       "      <td>-1.495856</td>\n",
       "      <td>-0.977913</td>\n",
       "      <td>-2.270149</td>\n",
       "      <td>0.792376</td>\n",
       "      <td>3.572262</td>\n",
       "      <td>-1.569487</td>\n",
       "      <td>0.841158</td>\n",
       "      <td>-1.570196</td>\n",
       "      <td>1.320589</td>\n",
       "      <td>...</td>\n",
       "      <td>-1.079484</td>\n",
       "      <td>0.032946</td>\n",
       "      <td>0.974958</td>\n",
       "      <td>0.471812</td>\n",
       "      <td>-0.321274</td>\n",
       "      <td>0.039857</td>\n",
       "      <td>0.024301</td>\n",
       "      <td>0.537972</td>\n",
       "      <td>-0.394730</td>\n",
       "      <td>0</td>\n",
       "    </tr>\n",
       "    <tr>\n",
       "      <th>123301</th>\n",
       "      <td>-1.298359</td>\n",
       "      <td>1.079671</td>\n",
       "      <td>-0.180678</td>\n",
       "      <td>1.287839</td>\n",
       "      <td>1.858273</td>\n",
       "      <td>-2.223695</td>\n",
       "      <td>0.525167</td>\n",
       "      <td>-0.096874</td>\n",
       "      <td>-0.168893</td>\n",
       "      <td>-2.544410</td>\n",
       "      <td>...</td>\n",
       "      <td>-0.851270</td>\n",
       "      <td>-0.370800</td>\n",
       "      <td>0.298242</td>\n",
       "      <td>0.442930</td>\n",
       "      <td>-0.522832</td>\n",
       "      <td>0.000105</td>\n",
       "      <td>0.135698</td>\n",
       "      <td>-0.293440</td>\n",
       "      <td>-0.091824</td>\n",
       "      <td>1</td>\n",
       "    </tr>\n",
       "    <tr>\n",
       "      <th>281053</th>\n",
       "      <td>-1.219123</td>\n",
       "      <td>1.489952</td>\n",
       "      <td>-0.187655</td>\n",
       "      <td>-0.475759</td>\n",
       "      <td>0.959856</td>\n",
       "      <td>-1.389524</td>\n",
       "      <td>0.876273</td>\n",
       "      <td>0.186469</td>\n",
       "      <td>-0.448640</td>\n",
       "      <td>-2.736630</td>\n",
       "      <td>...</td>\n",
       "      <td>-0.090943</td>\n",
       "      <td>-0.529271</td>\n",
       "      <td>-0.318949</td>\n",
       "      <td>1.015782</td>\n",
       "      <td>-0.381530</td>\n",
       "      <td>-0.037237</td>\n",
       "      <td>0.013648</td>\n",
       "      <td>0.062461</td>\n",
       "      <td>1.001151</td>\n",
       "      <td>0</td>\n",
       "    </tr>\n",
       "    <tr>\n",
       "      <th>261925</th>\n",
       "      <td>-2.783865</td>\n",
       "      <td>1.596824</td>\n",
       "      <td>-2.084844</td>\n",
       "      <td>2.512986</td>\n",
       "      <td>-1.446749</td>\n",
       "      <td>-0.828496</td>\n",
       "      <td>-0.732262</td>\n",
       "      <td>-0.203329</td>\n",
       "      <td>-0.347046</td>\n",
       "      <td>-2.162061</td>\n",
       "      <td>...</td>\n",
       "      <td>0.293268</td>\n",
       "      <td>0.199568</td>\n",
       "      <td>0.146868</td>\n",
       "      <td>0.163602</td>\n",
       "      <td>-0.624085</td>\n",
       "      <td>-1.333100</td>\n",
       "      <td>0.428634</td>\n",
       "      <td>1.872424</td>\n",
       "      <td>0.887593</td>\n",
       "      <td>1</td>\n",
       "    </tr>\n",
       "    <tr>\n",
       "      <th>123238</th>\n",
       "      <td>1.140208</td>\n",
       "      <td>1.156431</td>\n",
       "      <td>-1.471578</td>\n",
       "      <td>2.076278</td>\n",
       "      <td>0.774809</td>\n",
       "      <td>-1.002532</td>\n",
       "      <td>0.264948</td>\n",
       "      <td>0.013162</td>\n",
       "      <td>0.248835</td>\n",
       "      <td>-2.100667</td>\n",
       "      <td>...</td>\n",
       "      <td>-0.866812</td>\n",
       "      <td>-0.121583</td>\n",
       "      <td>-0.356109</td>\n",
       "      <td>0.634573</td>\n",
       "      <td>-0.306311</td>\n",
       "      <td>0.094087</td>\n",
       "      <td>0.121065</td>\n",
       "      <td>-0.293440</td>\n",
       "      <td>-0.092048</td>\n",
       "      <td>1</td>\n",
       "    </tr>\n",
       "  </tbody>\n",
       "</table>\n",
       "<p>5 rows × 31 columns</p>\n",
       "</div>"
      ],
      "text/plain": [
       "              V1        V2        V3        V4        V5        V6        V7  \\\n",
       "64272   1.453187 -1.495856 -0.977913 -2.270149  0.792376  3.572262 -1.569487   \n",
       "123301 -1.298359  1.079671 -0.180678  1.287839  1.858273 -2.223695  0.525167   \n",
       "281053 -1.219123  1.489952 -0.187655 -0.475759  0.959856 -1.389524  0.876273   \n",
       "261925 -2.783865  1.596824 -2.084844  2.512986 -1.446749 -0.828496 -0.732262   \n",
       "123238  1.140208  1.156431 -1.471578  2.076278  0.774809 -1.002532  0.264948   \n",
       "\n",
       "              V8        V9       V10  ...       V22       V23       V24  \\\n",
       "64272   0.841158 -1.570196  1.320589  ... -1.079484  0.032946  0.974958   \n",
       "123301 -0.096874 -0.168893 -2.544410  ... -0.851270 -0.370800  0.298242   \n",
       "281053  0.186469 -0.448640 -2.736630  ... -0.090943 -0.529271 -0.318949   \n",
       "261925 -0.203329 -0.347046 -2.162061  ...  0.293268  0.199568  0.146868   \n",
       "123238  0.013162  0.248835 -2.100667  ... -0.866812 -0.121583 -0.356109   \n",
       "\n",
       "             V25       V26       V27       V28  scaled_amount  scaled_time  \\\n",
       "64272   0.471812 -0.321274  0.039857  0.024301       0.537972    -0.394730   \n",
       "123301  0.442930 -0.522832  0.000105  0.135698      -0.293440    -0.091824   \n",
       "281053  1.015782 -0.381530 -0.037237  0.013648       0.062461     1.001151   \n",
       "261925  0.163602 -0.624085 -1.333100  0.428634       1.872424     0.887593   \n",
       "123238  0.634573 -0.306311  0.094087  0.121065      -0.293440    -0.092048   \n",
       "\n",
       "        Class  \n",
       "64272       0  \n",
       "123301      1  \n",
       "281053      0  \n",
       "261925      1  \n",
       "123238      1  \n",
       "\n",
       "[5 rows x 31 columns]"
      ]
     },
     "execution_count": 11,
     "metadata": {},
     "output_type": "execute_result"
    }
   ],
   "source": [
    "# so we will use 492 instances for both classes \n",
    "df = df.sample(frac=1) #shuffling all our data\n",
    "\n",
    "fraud_df = df.loc[df['Class'] == 1]\n",
    "non_fraud_df = df.loc[df['Class'] == 0][:492] # on prend only same amount of fraud samples\n",
    "\n",
    "normal_distributed_df = pd.concat([fraud_df, non_fraud_df]) # this is our balanced dataset\n",
    "new_df = normal_distributed_df.sample(frac=1, random_state=42) # we shuffle our balanced dataset\n",
    "new_df.head()\n",
    "\n"
   ]
  },
  {
   "cell_type": "code",
   "execution_count": 12,
   "metadata": {},
   "outputs": [
    {
     "data": {
      "text/plain": [
       "Class\n",
       "0    0.5\n",
       "1    0.5\n",
       "Name: count, dtype: float64"
      ]
     },
     "execution_count": 12,
     "metadata": {},
     "output_type": "execute_result"
    }
   ],
   "source": [
    "# Seeing distribution now \n",
    "new_df['Class'].value_counts()/len(new_df)"
   ]
  },
  {
   "cell_type": "code",
   "execution_count": 13,
   "metadata": {},
   "outputs": [],
   "source": [
    "## Geting outliers from the other class (fraud) \n",
    "\n",
    "def outliers(data, col, multiplier = 1.5):\n",
    "    Q1 = data[col].quantile(0.25)\n",
    "    Q2 = data[col].quantile(0.50)\n",
    "    Q3 = data[col].quantile(0.75)\n",
    "    Q4 = data[col].quantile(1)\n",
    "    \n",
    "    IQR = Q3 = Q1\n",
    "    \n",
    "    bas = Q1 - multiplier * IQR\n",
    "    haut = Q3 + multiplier * IQR\n",
    "    \n",
    "    outliers = data[(data[col] < bas) | (data[col] > haut)]\n",
    "    \n",
    "    return outliers"
   ]
  },
  {
   "cell_type": "code",
   "execution_count": 14,
   "metadata": {},
   "outputs": [
    {
     "data": {
      "text/plain": [
       "1.0"
      ]
     },
     "execution_count": 14,
     "metadata": {},
     "output_type": "execute_result"
    }
   ],
   "source": [
    "len(outliers(new_df,'V4')) / len(new_df)\n"
   ]
  },
  {
   "cell_type": "code",
   "execution_count": 15,
   "metadata": {},
   "outputs": [
    {
     "data": {
      "text/html": [
       "<div>\n",
       "<style scoped>\n",
       "    .dataframe tbody tr th:only-of-type {\n",
       "        vertical-align: middle;\n",
       "    }\n",
       "\n",
       "    .dataframe tbody tr th {\n",
       "        vertical-align: top;\n",
       "    }\n",
       "\n",
       "    .dataframe thead th {\n",
       "        text-align: right;\n",
       "    }\n",
       "</style>\n",
       "<table border=\"1\" class=\"dataframe\">\n",
       "  <thead>\n",
       "    <tr style=\"text-align: right;\">\n",
       "      <th></th>\n",
       "      <th>V1</th>\n",
       "      <th>V2</th>\n",
       "      <th>V3</th>\n",
       "      <th>V4</th>\n",
       "      <th>V5</th>\n",
       "      <th>V6</th>\n",
       "      <th>V7</th>\n",
       "      <th>V8</th>\n",
       "      <th>V9</th>\n",
       "      <th>V10</th>\n",
       "      <th>...</th>\n",
       "      <th>V22</th>\n",
       "      <th>V23</th>\n",
       "      <th>V24</th>\n",
       "      <th>V25</th>\n",
       "      <th>V26</th>\n",
       "      <th>V27</th>\n",
       "      <th>V28</th>\n",
       "      <th>scaled_amount</th>\n",
       "      <th>scaled_time</th>\n",
       "      <th>Class</th>\n",
       "    </tr>\n",
       "  </thead>\n",
       "  <tbody>\n",
       "    <tr>\n",
       "      <th>64272</th>\n",
       "      <td>1.453187</td>\n",
       "      <td>-1.495856</td>\n",
       "      <td>-0.977913</td>\n",
       "      <td>-2.270149</td>\n",
       "      <td>0.792376</td>\n",
       "      <td>3.572262</td>\n",
       "      <td>-1.569487</td>\n",
       "      <td>0.841158</td>\n",
       "      <td>-1.570196</td>\n",
       "      <td>1.320589</td>\n",
       "      <td>...</td>\n",
       "      <td>-1.079484</td>\n",
       "      <td>0.032946</td>\n",
       "      <td>0.974958</td>\n",
       "      <td>0.471812</td>\n",
       "      <td>-0.321274</td>\n",
       "      <td>0.039857</td>\n",
       "      <td>0.024301</td>\n",
       "      <td>0.537972</td>\n",
       "      <td>-0.394730</td>\n",
       "      <td>0</td>\n",
       "    </tr>\n",
       "    <tr>\n",
       "      <th>123301</th>\n",
       "      <td>-1.298359</td>\n",
       "      <td>1.079671</td>\n",
       "      <td>-0.180678</td>\n",
       "      <td>1.287839</td>\n",
       "      <td>1.858273</td>\n",
       "      <td>-2.223695</td>\n",
       "      <td>0.525167</td>\n",
       "      <td>-0.096874</td>\n",
       "      <td>-0.168893</td>\n",
       "      <td>-2.544410</td>\n",
       "      <td>...</td>\n",
       "      <td>-0.851270</td>\n",
       "      <td>-0.370800</td>\n",
       "      <td>0.298242</td>\n",
       "      <td>0.442930</td>\n",
       "      <td>-0.522832</td>\n",
       "      <td>0.000105</td>\n",
       "      <td>0.135698</td>\n",
       "      <td>-0.293440</td>\n",
       "      <td>-0.091824</td>\n",
       "      <td>1</td>\n",
       "    </tr>\n",
       "    <tr>\n",
       "      <th>281053</th>\n",
       "      <td>-1.219123</td>\n",
       "      <td>1.489952</td>\n",
       "      <td>-0.187655</td>\n",
       "      <td>-0.475759</td>\n",
       "      <td>0.959856</td>\n",
       "      <td>-1.389524</td>\n",
       "      <td>0.876273</td>\n",
       "      <td>0.186469</td>\n",
       "      <td>-0.448640</td>\n",
       "      <td>-2.736630</td>\n",
       "      <td>...</td>\n",
       "      <td>-0.090943</td>\n",
       "      <td>-0.529271</td>\n",
       "      <td>-0.318949</td>\n",
       "      <td>1.015782</td>\n",
       "      <td>-0.381530</td>\n",
       "      <td>-0.037237</td>\n",
       "      <td>0.013648</td>\n",
       "      <td>0.062461</td>\n",
       "      <td>1.001151</td>\n",
       "      <td>0</td>\n",
       "    </tr>\n",
       "    <tr>\n",
       "      <th>261925</th>\n",
       "      <td>-2.783865</td>\n",
       "      <td>1.596824</td>\n",
       "      <td>-2.084844</td>\n",
       "      <td>2.512986</td>\n",
       "      <td>-1.446749</td>\n",
       "      <td>-0.828496</td>\n",
       "      <td>-0.732262</td>\n",
       "      <td>-0.203329</td>\n",
       "      <td>-0.347046</td>\n",
       "      <td>-2.162061</td>\n",
       "      <td>...</td>\n",
       "      <td>0.293268</td>\n",
       "      <td>0.199568</td>\n",
       "      <td>0.146868</td>\n",
       "      <td>0.163602</td>\n",
       "      <td>-0.624085</td>\n",
       "      <td>-1.333100</td>\n",
       "      <td>0.428634</td>\n",
       "      <td>1.872424</td>\n",
       "      <td>0.887593</td>\n",
       "      <td>1</td>\n",
       "    </tr>\n",
       "    <tr>\n",
       "      <th>123238</th>\n",
       "      <td>1.140208</td>\n",
       "      <td>1.156431</td>\n",
       "      <td>-1.471578</td>\n",
       "      <td>2.076278</td>\n",
       "      <td>0.774809</td>\n",
       "      <td>-1.002532</td>\n",
       "      <td>0.264948</td>\n",
       "      <td>0.013162</td>\n",
       "      <td>0.248835</td>\n",
       "      <td>-2.100667</td>\n",
       "      <td>...</td>\n",
       "      <td>-0.866812</td>\n",
       "      <td>-0.121583</td>\n",
       "      <td>-0.356109</td>\n",
       "      <td>0.634573</td>\n",
       "      <td>-0.306311</td>\n",
       "      <td>0.094087</td>\n",
       "      <td>0.121065</td>\n",
       "      <td>-0.293440</td>\n",
       "      <td>-0.092048</td>\n",
       "      <td>1</td>\n",
       "    </tr>\n",
       "  </tbody>\n",
       "</table>\n",
       "<p>5 rows × 31 columns</p>\n",
       "</div>"
      ],
      "text/plain": [
       "              V1        V2        V3        V4        V5        V6        V7  \\\n",
       "64272   1.453187 -1.495856 -0.977913 -2.270149  0.792376  3.572262 -1.569487   \n",
       "123301 -1.298359  1.079671 -0.180678  1.287839  1.858273 -2.223695  0.525167   \n",
       "281053 -1.219123  1.489952 -0.187655 -0.475759  0.959856 -1.389524  0.876273   \n",
       "261925 -2.783865  1.596824 -2.084844  2.512986 -1.446749 -0.828496 -0.732262   \n",
       "123238  1.140208  1.156431 -1.471578  2.076278  0.774809 -1.002532  0.264948   \n",
       "\n",
       "              V8        V9       V10  ...       V22       V23       V24  \\\n",
       "64272   0.841158 -1.570196  1.320589  ... -1.079484  0.032946  0.974958   \n",
       "123301 -0.096874 -0.168893 -2.544410  ... -0.851270 -0.370800  0.298242   \n",
       "281053  0.186469 -0.448640 -2.736630  ... -0.090943 -0.529271 -0.318949   \n",
       "261925 -0.203329 -0.347046 -2.162061  ...  0.293268  0.199568  0.146868   \n",
       "123238  0.013162  0.248835 -2.100667  ... -0.866812 -0.121583 -0.356109   \n",
       "\n",
       "             V25       V26       V27       V28  scaled_amount  scaled_time  \\\n",
       "64272   0.471812 -0.321274  0.039857  0.024301       0.537972    -0.394730   \n",
       "123301  0.442930 -0.522832  0.000105  0.135698      -0.293440    -0.091824   \n",
       "281053  1.015782 -0.381530 -0.037237  0.013648       0.062461     1.001151   \n",
       "261925  0.163602 -0.624085 -1.333100  0.428634       1.872424     0.887593   \n",
       "123238  0.634573 -0.306311  0.094087  0.121065      -0.293440    -0.092048   \n",
       "\n",
       "        Class  \n",
       "64272       0  \n",
       "123301      1  \n",
       "281053      0  \n",
       "261925      1  \n",
       "123238      1  \n",
       "\n",
       "[5 rows x 31 columns]"
      ]
     },
     "execution_count": 15,
     "metadata": {},
     "output_type": "execute_result"
    }
   ],
   "source": [
    "new_df.head()"
   ]
  },
  {
   "cell_type": "code",
   "execution_count": 16,
   "metadata": {},
   "outputs": [],
   "source": [
    "# Here i am going to create a balanced dataset in which : the 492 instances of no fraud have no extreme outliers, this will help our model train well on no fraud data\n"
   ]
  },
  {
   "cell_type": "code",
   "execution_count": 17,
   "metadata": {},
   "outputs": [],
   "source": [
    "def create_balanced_dataset(df, target_size=492, outlier_removal_func=None, random_state=None):\n",
    "    df = df.sample(frac=1, random_state=random_state)\n",
    "\n",
    "    fraud_df = df[df['Class'] == 1]\n",
    "    non_fraud_df = df[df['Class'] == 0]\n",
    "\n",
    "    balanced_df = pd.DataFrame(columns=df.columns)\n",
    "\n",
    "    fraud_df = fraud_df[:target_size]\n",
    "    balanced_df = pd.concat([balanced_df, fraud_df])\n",
    "\n",
    "    min_outliers = float('inf')\n",
    "    best_batch = None\n",
    "    for i in range(0, len(non_fraud_df), target_size):\n",
    "        non_fraud_df = non_fraud_df.sample(frac=1, random_state=random_state)\n",
    "        non_fraud_batch = non_fraud_df[i:i+target_size]\n",
    "\n",
    "        num_outliers = 0\n",
    "        if outlier_removal_func:\n",
    "            for col in df.columns[:-1]:  # Exclude 'Class' column\n",
    "                non_fraud_outliers_removed = outlier_removal_func(df, col)\n",
    "                num_outliers += len(non_fraud_outliers_removed.index)\n",
    "\n",
    "        if num_outliers < min_outliers:\n",
    "            min_outliers = num_outliers\n",
    "            best_batch = non_fraud_batch\n",
    "\n",
    "    balanced_df = pd.concat([balanced_df, best_batch])\n",
    "\n",
    "    balanced_df = balanced_df.sample(frac=1, random_state=random_state)\n",
    "\n",
    "    return balanced_df"
   ]
  },
  {
   "cell_type": "code",
   "execution_count": 18,
   "metadata": {},
   "outputs": [
    {
     "name": "stderr",
     "output_type": "stream",
     "text": [
      "C:\\Users\\Rania\\AppData\\Local\\Temp\\ipykernel_27364\\916350335.py:10: FutureWarning: The behavior of DataFrame concatenation with empty or all-NA entries is deprecated. In a future version, this will no longer exclude empty or all-NA columns when determining the result dtypes. To retain the old behavior, exclude the relevant entries before the concat operation.\n",
      "  balanced_df = pd.concat([balanced_df, fraud_df])\n"
     ]
    }
   ],
   "source": [
    "balanced_dataset = create_balanced_dataset(new_df, target_size=492, outlier_removal_func=outliers, random_state=42)\n",
    "balanced_dataset.reset_index(drop=True, inplace=True)"
   ]
  },
  {
   "cell_type": "code",
   "execution_count": 19,
   "metadata": {},
   "outputs": [
    {
     "data": {
      "text/plain": [
       "1.0"
      ]
     },
     "execution_count": 19,
     "metadata": {},
     "output_type": "execute_result"
    }
   ],
   "source": [
    "len(outliers(balanced_dataset,'V4')) / len(balanced_dataset)\n",
    "# we have snot ignificantly reduced outliers proportion in dataset lol"
   ]
  },
  {
   "cell_type": "code",
   "execution_count": 20,
   "metadata": {},
   "outputs": [
    {
     "name": "stderr",
     "output_type": "stream",
     "text": [
      "C:\\Users\\Rania\\AppData\\Local\\Temp\\ipykernel_27364\\692864827.py:1: FutureWarning: \n",
      "\n",
      "Passing `palette` without assigning `hue` is deprecated and will be removed in v0.14.0. Assign the `x` variable to `hue` and set `legend=False` for the same effect.\n",
      "\n",
      "  sns.countplot(x = 'Class', data=new_df, palette='Blues')\n"
     ]
    },
    {
     "data": {
      "image/png": "[encoded data removed]",
      "text/plain": [
       "<Figure size 640x480 with 1 Axes>"
      ]
     },
     "metadata": {},
     "output_type": "display_data"
    }
   ],
   "source": [
    "sns.countplot(x = 'Class', data=new_df, palette='Blues')\n",
    "plt.title('Equally Distributed Classes', fontsize=14)\n",
    "plt.show()"
   ]
  },
  {
   "cell_type": "code",
   "execution_count": 21,
   "metadata": {},
   "outputs": [],
   "source": [
    "new_df.to_csv('under_sampled.csv', index=False)\n"
   ]
  },
  {
   "cell_type": "code",
   "execution_count": 22,
   "metadata": {},
   "outputs": [],
   "source": [
    "df.to_csv('creditcard_scaled.csv')"
   ]
  },
  {
   "cell_type": "code",
   "execution_count": 23,
   "metadata": {},
   "outputs": [
    {
     "data": {
      "text/plain": [
       "984"
      ]
     },
     "execution_count": 23,
     "metadata": {},
     "output_type": "execute_result"
    }
   ],
   "source": [
    "len(new_df) # 492*2 for 2 classes"
   ]
  },
  {
   "cell_type": "markdown",
   "metadata": {},
   "source": [
    "### Not so Random Over-sampling"
   ]
  },
  {
   "cell_type": "code",
   "execution_count": 24,
   "metadata": {},
   "outputs": [
    {
     "data": {
      "text/plain": [
       "'\\nET DU COUP THIS WILL BE INCLUDED WHEN TRAINING OUR MODELS IN NOTEBOOK PREDICITON\\n'"
      ]
     },
     "execution_count": 24,
     "metadata": {},
     "output_type": "execute_result"
    }
   ],
   "source": [
    "# PS : this method creates synthetic data so we should do it during cross valisation to avoid data leakage\n",
    "'''\n",
    "ET DU COUP THIS WILL BE INCLUDED WHEN TRAINING OUR MODELS IN NOTEBOOK PREDICITON\n",
    "'''"
   ]
  },
  {
   "cell_type": "code",
   "execution_count": null,
   "metadata": {},
   "outputs": [],
   "source": []
  }
 ],
 "metadata": {
  "kernelspec": {
   "display_name": "basee",
   "language": "python",
   "name": "python3"
  },
  "language_info": {
   "codemirror_mode": {
    "name": "ipython",
    "version": 3
   },
   "file_extension": ".py",
   "mimetype": "text/x-python",
   "name": "python",
   "nbconvert_exporter": "python",
   "pygments_lexer": "ipython3",
   "version": "3.10.13"
  }
 },
 "nbformat": 4,
 "nbformat_minor": 2
}
